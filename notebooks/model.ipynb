{
 "cells": [
  {
   "cell_type": "markdown",
   "metadata": {},
   "source": [
    "# Libraries"
   ]
  },
  {
   "cell_type": "code",
   "execution_count": 32,
   "metadata": {},
   "outputs": [],
   "source": [
    "# Data wrangling\n",
    "import pandas as pd\n",
    "\n",
    "# Preprocessing\n",
    "from sklearn.preprocessing import OneHotEncoder\n",
    "\n",
    "# Evaluation\n",
    "from sklearn.model_selection import train_test_split\n",
    "from sklearn.model_selection import cross_validate\n",
    "from sklearn.model_selection import KFold\n",
    "from sklearn import metrics\n",
    "\n",
    "# Models\n",
    "from sklearn.linear_model import LinearRegression\n",
    "from sklearn.ensemble import RandomForestRegressor\n",
    "from sklearn.neural_network import MLPRegressor\n",
    "from sklearn.dummy import DummyRegressor\n",
    "from xgboost import XGBRegressor\n",
    "\n",
    "# Pipeline\n",
    "from sklearn.compose import make_column_transformer, ColumnTransformer\n",
    "from sklearn.pipeline import make_pipeline, Pipeline\n",
    "\n",
    "# Dataviz\n",
    "import matplotlib.pyplot as plt\n",
    "import seaborn as sns\n",
    "\n",
    "# Serialize model\n",
    "import pickle"
   ]
  },
  {
   "cell_type": "markdown",
   "metadata": {},
   "source": [
    "## Libraries Settings"
   ]
  },
  {
   "cell_type": "code",
   "execution_count": 33,
   "metadata": {},
   "outputs": [],
   "source": [
    "sns.set_theme(\n",
    "    context='notebook',\n",
    "    style='ticks',\n",
    "    font_scale=.8,\n",
    "    palette='colorblind',\n",
    "    rc={\n",
    "        'axes.grid': True,\n",
    "        'grid.alpha': .2,\n",
    "        'axes.labelpad': 20,\n",
    "        'axes.titlepad': 30,\n",
    "    }\n",
    ")"
   ]
  },
  {
   "cell_type": "markdown",
   "metadata": {},
   "source": [
    "# Functions"
   ]
  },
  {
   "cell_type": "code",
   "execution_count": 27,
   "metadata": {},
   "outputs": [],
   "source": [
    "def assign_pipeline(model, preprocessor):\n",
    "    model_pipeline = Pipeline(steps=[\n",
    "    ('preprocessor', preprocessor),\n",
    "    ('model', model)\n",
    "    ])\n",
    "    return model_pipeline\n",
    "\n",
    "\n",
    "def print_metrics(y, y_pred):\n",
    "    dict_metrics = {\n",
    "        'MAE': metrics.mean_absolute_error(y, y_pred),\n",
    "        'MAPE': metrics.mean_absolute_percentage_error(y, y_pred),\n",
    "        'RSMAE': metrics.root_mean_squared_error(y, y_pred),\n",
    "        'r2': metrics.r2_score(y, y_pred)\n",
    "    }\n",
    "\n",
    "    return dict_metrics"
   ]
  },
  {
   "cell_type": "markdown",
   "metadata": {},
   "source": [
    "# 1. Load Data"
   ]
  },
  {
   "cell_type": "code",
   "execution_count": 2,
   "metadata": {},
   "outputs": [],
   "source": [
    "FEATURES = [\n",
    "    'smoker',\n",
    "    'coverage_level',\n",
    "    'medical_history',\n",
    "    'family_medical_history',\n",
    "]\n",
    "\n",
    "TARGET = 'charges'"
   ]
  },
  {
   "cell_type": "code",
   "execution_count": 3,
   "metadata": {},
   "outputs": [
    {
     "data": {
      "text/html": [
       "<div>\n",
       "<style scoped>\n",
       "    .dataframe tbody tr th:only-of-type {\n",
       "        vertical-align: middle;\n",
       "    }\n",
       "\n",
       "    .dataframe tbody tr th {\n",
       "        vertical-align: top;\n",
       "    }\n",
       "\n",
       "    .dataframe thead th {\n",
       "        text-align: right;\n",
       "    }\n",
       "</style>\n",
       "<table border=\"1\" class=\"dataframe\">\n",
       "  <thead>\n",
       "    <tr style=\"text-align: right;\">\n",
       "      <th></th>\n",
       "      <th>smoker</th>\n",
       "      <th>medical_history</th>\n",
       "      <th>family_medical_history</th>\n",
       "      <th>coverage_level</th>\n",
       "      <th>charges</th>\n",
       "    </tr>\n",
       "  </thead>\n",
       "  <tbody>\n",
       "    <tr>\n",
       "      <th>0</th>\n",
       "      <td>yes</td>\n",
       "      <td>Diabetes</td>\n",
       "      <td>No history</td>\n",
       "      <td>Premium</td>\n",
       "      <td>20460.307669</td>\n",
       "    </tr>\n",
       "    <tr>\n",
       "      <th>1</th>\n",
       "      <td>yes</td>\n",
       "      <td>Diabetes</td>\n",
       "      <td>High blood pressure</td>\n",
       "      <td>Premium</td>\n",
       "      <td>20390.899218</td>\n",
       "    </tr>\n",
       "    <tr>\n",
       "      <th>2</th>\n",
       "      <td>yes</td>\n",
       "      <td>No history</td>\n",
       "      <td>High blood pressure</td>\n",
       "      <td>Premium</td>\n",
       "      <td>20204.476302</td>\n",
       "    </tr>\n",
       "    <tr>\n",
       "      <th>3</th>\n",
       "      <td>no</td>\n",
       "      <td>No history</td>\n",
       "      <td>Diabetes</td>\n",
       "      <td>Standard</td>\n",
       "      <td>11789.029843</td>\n",
       "    </tr>\n",
       "    <tr>\n",
       "      <th>4</th>\n",
       "      <td>yes</td>\n",
       "      <td>Diabetes</td>\n",
       "      <td>High blood pressure</td>\n",
       "      <td>Standard</td>\n",
       "      <td>19268.309838</td>\n",
       "    </tr>\n",
       "  </tbody>\n",
       "</table>\n",
       "</div>"
      ],
      "text/plain": [
       "  smoker medical_history family_medical_history coverage_level       charges\n",
       "0    yes        Diabetes             No history        Premium  20460.307669\n",
       "1    yes        Diabetes    High blood pressure        Premium  20390.899218\n",
       "2    yes      No history    High blood pressure        Premium  20204.476302\n",
       "3     no      No history               Diabetes       Standard  11789.029843\n",
       "4    yes        Diabetes    High blood pressure       Standard  19268.309838"
      ]
     },
     "execution_count": 3,
     "metadata": {},
     "output_type": "execute_result"
    }
   ],
   "source": [
    "df = pd.read_csv('../data/processed/insurance_dataset.csv',\n",
    "                 usecols=[*FEATURES, TARGET])\n",
    "df.head(5)"
   ]
  },
  {
   "cell_type": "markdown",
   "metadata": {},
   "source": [
    "# 2. Modeling"
   ]
  },
  {
   "cell_type": "code",
   "execution_count": 4,
   "metadata": {},
   "outputs": [],
   "source": [
    "models = [\n",
    "    LinearRegression(),\n",
    "    RandomForestRegressor(random_state=42),\n",
    "    MLPRegressor(random_state=42),\n",
    "    DummyRegressor(),\n",
    "    XGBRegressor()\n",
    "]"
   ]
  },
  {
   "cell_type": "markdown",
   "metadata": {},
   "source": [
    "## 2.1. Pipeline"
   ]
  },
  {
   "cell_type": "code",
   "execution_count": 5,
   "metadata": {},
   "outputs": [],
   "source": [
    "X, y = df[FEATURES], df[TARGET]\n",
    "X_train, X_test, y_train, y_test = train_test_split(X, y, test_size=.3,\n",
    "                                                    random_state=42)"
   ]
  },
  {
   "cell_type": "code",
   "execution_count": 6,
   "metadata": {},
   "outputs": [],
   "source": [
    "# Preprocessing\n",
    "preprocessor = make_column_transformer(\n",
    "    (OneHotEncoder(drop='if_binary'), FEATURES)\n",
    ")"
   ]
  },
  {
   "cell_type": "code",
   "execution_count": 7,
   "metadata": {},
   "outputs": [
    {
     "name": "stdout",
     "output_type": "stream",
     "text": [
      "LinearRegression\n",
      "RandomForestRegressor\n",
      "MLPRegressor\n",
      "DummyRegressor\n",
      "XGBRegressor\n"
     ]
    },
    {
     "data": {
      "text/html": [
       "<div>\n",
       "<style scoped>\n",
       "    .dataframe tbody tr th:only-of-type {\n",
       "        vertical-align: middle;\n",
       "    }\n",
       "\n",
       "    .dataframe tbody tr th {\n",
       "        vertical-align: top;\n",
       "    }\n",
       "\n",
       "    .dataframe thead th {\n",
       "        text-align: right;\n",
       "    }\n",
       "</style>\n",
       "<table border=\"1\" class=\"dataframe\">\n",
       "  <thead>\n",
       "    <tr style=\"text-align: right;\">\n",
       "      <th></th>\n",
       "      <th>fit_time</th>\n",
       "      <th>score_time</th>\n",
       "      <th>r2</th>\n",
       "      <th>neg_mean_absolute_error</th>\n",
       "      <th>neg_root_mean_squared_error</th>\n",
       "      <th>neg_mean_absolute_percentage_error</th>\n",
       "    </tr>\n",
       "    <tr>\n",
       "      <th>model</th>\n",
       "      <th></th>\n",
       "      <th></th>\n",
       "      <th></th>\n",
       "      <th></th>\n",
       "      <th></th>\n",
       "      <th></th>\n",
       "    </tr>\n",
       "  </thead>\n",
       "  <tbody>\n",
       "    <tr>\n",
       "      <th>LinearRegression</th>\n",
       "      <td>0.99 ± 0.08</td>\n",
       "      <td>0.07 ± 0.02</td>\n",
       "      <td>0.90 ± 0.00</td>\n",
       "      <td>-1145.30 ± 4.17</td>\n",
       "      <td>-1416.08 ± 4.16</td>\n",
       "      <td>-0.07 ± 0.00</td>\n",
       "    </tr>\n",
       "    <tr>\n",
       "      <th>RandomForestRegressor</th>\n",
       "      <td>295.34 ± 2.75</td>\n",
       "      <td>0.44 ± 0.07</td>\n",
       "      <td>0.90 ± 0.00</td>\n",
       "      <td>-1145.35 ± 4.23</td>\n",
       "      <td>-1416.14 ± 4.19</td>\n",
       "      <td>-0.07 ± 0.00</td>\n",
       "    </tr>\n",
       "    <tr>\n",
       "      <th>MLPRegressor</th>\n",
       "      <td>42.28 ± 8.25</td>\n",
       "      <td>0.10 ± 0.02</td>\n",
       "      <td>0.90 ± 0.00</td>\n",
       "      <td>-1145.34 ± 4.14</td>\n",
       "      <td>-1416.18 ± 4.14</td>\n",
       "      <td>-0.07 ± 0.00</td>\n",
       "    </tr>\n",
       "    <tr>\n",
       "      <th>XGBRegressor</th>\n",
       "      <td>19.64 ± 0.19</td>\n",
       "      <td>0.37 ± 0.03</td>\n",
       "      <td>0.90 ± 0.00</td>\n",
       "      <td>-1145.36 ± 4.22</td>\n",
       "      <td>-1416.14 ± 4.19</td>\n",
       "      <td>-0.07 ± 0.00</td>\n",
       "    </tr>\n",
       "    <tr>\n",
       "      <th>DummyRegressor</th>\n",
       "      <td>0.79 ± 0.05</td>\n",
       "      <td>0.07 ± 0.01</td>\n",
       "      <td>-0.00 ± 0.00</td>\n",
       "      <td>-3588.57 ± 7.85</td>\n",
       "      <td>-4419.71 ± 9.51</td>\n",
       "      <td>-0.25 ± 0.00</td>\n",
       "    </tr>\n",
       "  </tbody>\n",
       "</table>\n",
       "</div>"
      ],
      "text/plain": [
       "                            fit_time   score_time            r2  \\\n",
       "model                                                             \n",
       "LinearRegression         0.99 ± 0.08  0.07 ± 0.02   0.90 ± 0.00   \n",
       "RandomForestRegressor  295.34 ± 2.75  0.44 ± 0.07   0.90 ± 0.00   \n",
       "MLPRegressor            42.28 ± 8.25  0.10 ± 0.02   0.90 ± 0.00   \n",
       "XGBRegressor            19.64 ± 0.19  0.37 ± 0.03   0.90 ± 0.00   \n",
       "DummyRegressor           0.79 ± 0.05  0.07 ± 0.01  -0.00 ± 0.00   \n",
       "\n",
       "                      neg_mean_absolute_error neg_root_mean_squared_error  \\\n",
       "model                                                                       \n",
       "LinearRegression              -1145.30 ± 4.17             -1416.08 ± 4.16   \n",
       "RandomForestRegressor         -1145.35 ± 4.23             -1416.14 ± 4.19   \n",
       "MLPRegressor                  -1145.34 ± 4.14             -1416.18 ± 4.14   \n",
       "XGBRegressor                  -1145.36 ± 4.22             -1416.14 ± 4.19   \n",
       "DummyRegressor                -3588.57 ± 7.85             -4419.71 ± 9.51   \n",
       "\n",
       "                      neg_mean_absolute_percentage_error  \n",
       "model                                                     \n",
       "LinearRegression                            -0.07 ± 0.00  \n",
       "RandomForestRegressor                       -0.07 ± 0.00  \n",
       "MLPRegressor                                -0.07 ± 0.00  \n",
       "XGBRegressor                                -0.07 ± 0.00  \n",
       "DummyRegressor                              -0.25 ± 0.00  "
      ]
     },
     "metadata": {},
     "output_type": "display_data"
    }
   ],
   "source": [
    "# Cross validation with stratified k-folds\n",
    "kf = KFold(n_splits=10, shuffle=True, random_state=42)\n",
    "cv_results = []\n",
    "\n",
    "for model in models:\n",
    "    model_name = model.__class__.__name__\n",
    "    print(model_name)\n",
    "    model_pipeline = Pipeline(steps=[\n",
    "        ('preprocessor', preprocessor),\n",
    "        ('model', model)\n",
    "    ])\n",
    "    \n",
    "    result = cross_validate(model_pipeline, X_train, y_train,\n",
    "                            scoring=['r2', 'neg_mean_absolute_error',\n",
    "                                     'neg_root_mean_squared_error',\n",
    "                                     'neg_mean_absolute_percentage_error'],\n",
    "                                     cv=kf, n_jobs=-1)\n",
    "    df_cv = pd.DataFrame(result)\n",
    "    df_cv = df_cv.apply(lambda x: f'{x.mean():.2f} ± {x.std():.2f}').to_frame(model_name).T\n",
    "    cv_results.append(df_cv)\n",
    "    \n",
    "df_cv_results = pd.concat(cv_results).sort_values('test_r2', ascending=False)    \n",
    "df_cv_results.columns = df_cv_results.columns.str.replace('test_','')\n",
    "df_cv_results = df_cv_results.rename_axis('model')\n",
    "display(df_cv_results)"
   ]
  },
  {
   "cell_type": "code",
   "execution_count": 19,
   "metadata": {},
   "outputs": [],
   "source": [
    "models_dict = {model.__class__.__name__: assign_pipeline(model, preprocessor) for model in models}\n",
    "for model in models_dict.values():\n",
    "    model.fit(X_train, y_train)"
   ]
  },
  {
   "cell_type": "markdown",
   "metadata": {},
   "source": [
    "# 3. Evaluation"
   ]
  },
  {
   "cell_type": "markdown",
   "metadata": {},
   "source": [
    "## 3.1. Linear Regression"
   ]
  },
  {
   "cell_type": "code",
   "execution_count": 43,
   "metadata": {},
   "outputs": [
    {
     "data": {
      "text/plain": [
       "{'MAE': 1144.1315116163576,\n",
       " 'MAPE': 0.07446737146955482,\n",
       " 'RSMAE': 1414.3061389901118,\n",
       " 'r2': 0.8969935823883497}"
      ]
     },
     "execution_count": 43,
     "metadata": {},
     "output_type": "execute_result"
    }
   ],
   "source": [
    "y_pred = models_dict['LinearRegression'].predict(X_test)\n",
    "lr_metrics = print_metrics(y_test, y_pred)\n",
    "lr_metrics"
   ]
  },
  {
   "cell_type": "markdown",
   "metadata": {},
   "source": [
    "## 3.2. Random Forest Regressor"
   ]
  },
  {
   "cell_type": "code",
   "execution_count": 44,
   "metadata": {},
   "outputs": [
    {
     "data": {
      "text/plain": [
       "{'MAE': 1144.15638273732,\n",
       " 'MAPE': 0.07446395090139091,\n",
       " 'RSMAE': 1414.357987721011,\n",
       " 'r2': 0.8969860297803578}"
      ]
     },
     "execution_count": 44,
     "metadata": {},
     "output_type": "execute_result"
    }
   ],
   "source": [
    "y_pred = models_dict['RandomForestRegressor'].predict(X_test)\n",
    "rf_metrics = print_metrics(y_test, y_pred)\n",
    "rf_metrics"
   ]
  },
  {
   "cell_type": "markdown",
   "metadata": {},
   "source": [
    "## 3.3 MLP Regressor"
   ]
  },
  {
   "cell_type": "code",
   "execution_count": 45,
   "metadata": {},
   "outputs": [
    {
     "data": {
      "text/plain": [
       "{'MAE': 1144.1537955138217,\n",
       " 'MAPE': 0.07446826672942013,\n",
       " 'RSMAE': 1414.330715952368,\n",
       " 'r2': 0.8969900023899827}"
      ]
     },
     "execution_count": 45,
     "metadata": {},
     "output_type": "execute_result"
    }
   ],
   "source": [
    "y_pred = models_dict['MLPRegressor'].predict(X_test)\n",
    "mlp_metrics = print_metrics(y_test, y_pred)\n",
    "mlp_metrics"
   ]
  },
  {
   "cell_type": "markdown",
   "metadata": {},
   "source": [
    "## 3.4. XGB Regressor"
   ]
  },
  {
   "cell_type": "code",
   "execution_count": 46,
   "metadata": {},
   "outputs": [
    {
     "data": {
      "text/plain": [
       "{'MAE': 1144.157305514877,\n",
       " 'MAPE': 0.0744647195018875,\n",
       " 'RSMAE': 1414.358738823685,\n",
       " 'r2': 0.8969859203680454}"
      ]
     },
     "execution_count": 46,
     "metadata": {},
     "output_type": "execute_result"
    }
   ],
   "source": [
    "y_pred = models_dict['XGBRegressor'].predict(X_test)\n",
    "xgb_metrics = print_metrics(y_test, y_pred)\n",
    "xgb_metrics"
   ]
  },
  {
   "cell_type": "markdown",
   "metadata": {},
   "source": [
    "## 3.5. Dummy Regressor"
   ]
  },
  {
   "cell_type": "code",
   "execution_count": 47,
   "metadata": {},
   "outputs": [
    {
     "data": {
      "text/plain": [
       "{'MAE': 3577.732284197109,\n",
       " 'MAPE': 0.24477026181452524,\n",
       " 'RSMAE': 4406.681735794761,\n",
       " 'r2': -1.8455755319557454e-06}"
      ]
     },
     "execution_count": 47,
     "metadata": {},
     "output_type": "execute_result"
    }
   ],
   "source": [
    "y_pred = models_dict['DummyRegressor'].predict(X_test)\n",
    "dummy_metrics = print_metrics(y_test, y_pred)\n",
    "dummy_metrics"
   ]
  },
  {
   "cell_type": "code",
   "execution_count": 53,
   "metadata": {},
   "outputs": [
    {
     "data": {
      "text/html": [
       "<div>\n",
       "<style scoped>\n",
       "    .dataframe tbody tr th:only-of-type {\n",
       "        vertical-align: middle;\n",
       "    }\n",
       "\n",
       "    .dataframe tbody tr th {\n",
       "        vertical-align: top;\n",
       "    }\n",
       "\n",
       "    .dataframe thead th {\n",
       "        text-align: right;\n",
       "    }\n",
       "</style>\n",
       "<table border=\"1\" class=\"dataframe\">\n",
       "  <thead>\n",
       "    <tr style=\"text-align: right;\">\n",
       "      <th></th>\n",
       "      <th>MAE</th>\n",
       "      <th>MAPE</th>\n",
       "      <th>RSMAE</th>\n",
       "      <th>r2</th>\n",
       "    </tr>\n",
       "  </thead>\n",
       "  <tbody>\n",
       "    <tr>\n",
       "      <th>LinearRegression</th>\n",
       "      <td>1144.131512</td>\n",
       "      <td>0.074467</td>\n",
       "      <td>1414.306139</td>\n",
       "      <td>0.896994</td>\n",
       "    </tr>\n",
       "    <tr>\n",
       "      <th>MLPRegressor</th>\n",
       "      <td>1144.153796</td>\n",
       "      <td>0.074468</td>\n",
       "      <td>1414.330716</td>\n",
       "      <td>0.896990</td>\n",
       "    </tr>\n",
       "    <tr>\n",
       "      <th>RandomForestRegressor</th>\n",
       "      <td>1144.156383</td>\n",
       "      <td>0.074464</td>\n",
       "      <td>1414.357988</td>\n",
       "      <td>0.896986</td>\n",
       "    </tr>\n",
       "    <tr>\n",
       "      <th>DummyRegressor</th>\n",
       "      <td>1144.157306</td>\n",
       "      <td>0.074465</td>\n",
       "      <td>1414.358739</td>\n",
       "      <td>0.896986</td>\n",
       "    </tr>\n",
       "    <tr>\n",
       "      <th>XGBRegressor</th>\n",
       "      <td>3577.732284</td>\n",
       "      <td>0.244770</td>\n",
       "      <td>4406.681736</td>\n",
       "      <td>-0.000002</td>\n",
       "    </tr>\n",
       "  </tbody>\n",
       "</table>\n",
       "</div>"
      ],
      "text/plain": [
       "                               MAE      MAPE        RSMAE        r2\n",
       "LinearRegression       1144.131512  0.074467  1414.306139  0.896994\n",
       "MLPRegressor           1144.153796  0.074468  1414.330716  0.896990\n",
       "RandomForestRegressor  1144.156383  0.074464  1414.357988  0.896986\n",
       "DummyRegressor         1144.157306  0.074465  1414.358739  0.896986\n",
       "XGBRegressor           3577.732284  0.244770  4406.681736 -0.000002"
      ]
     },
     "metadata": {},
     "output_type": "display_data"
    }
   ],
   "source": [
    "df_metrics = pd.DataFrame([lr_metrics, rf_metrics, mlp_metrics, xgb_metrics,\n",
    "                           dummy_metrics], index=models_dict.keys()).sort_values('r2', ascending=False,)\n",
    "display(df_metrics)"
   ]
  }
 ],
 "metadata": {
  "kernelspec": {
   "display_name": ".venv",
   "language": "python",
   "name": "python3"
  },
  "language_info": {
   "codemirror_mode": {
    "name": "ipython",
    "version": 3
   },
   "file_extension": ".py",
   "mimetype": "text/x-python",
   "name": "python",
   "nbconvert_exporter": "python",
   "pygments_lexer": "ipython3",
   "version": "3.10.11"
  }
 },
 "nbformat": 4,
 "nbformat_minor": 2
}
